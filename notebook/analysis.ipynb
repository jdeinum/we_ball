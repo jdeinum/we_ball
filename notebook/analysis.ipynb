{
 "cells": [
  {
   "cell_type": "code",
   "execution_count": 2,
   "id": "554d3f01-e487-4165-b7c0-3475de213253",
   "metadata": {},
   "outputs": [],
   "source": [
    "import numpy as np\n",
    "import pandas as pd\n",
    "import matplotlib.pyplot as plt\n",
    "import seaborn as sns\n",
    "import sklearn\n",
    "from IPython.display import display\n",
    "import sqlite3"
   ]
  },
  {
   "cell_type": "code",
   "execution_count": 23,
   "id": "78f3ab2a-d2a1-455d-a3cd-6f7b2462b7b7",
   "metadata": {},
   "outputs": [],
   "source": [
    "# pull in all of the data from the DB\n",
    "conn = sqlite3.connect(\"../stats.db\")\n",
    "curs = conn.cursor()\n",
    "\n",
    "curs.execute(\"SELECT * FROM team_season\")\n",
    "team_data = curs.fetchall()\n",
    "team = pd.DataFrame(team_data, columns=[\"Team\", \"Year\", \"Stat\", \"Unit\", \"Value\"])\n",
    "\n",
    "\n",
    "# curs.execute(\"SELECT * FROM individual_season\")\n",
    "# ind_data = curs.fetchall()\n",
    "# ind = pd.Dataframe(ind_data, columns=[\"Name\",\"Year\", \"Team\" \"Stat\", \"Unit\", \"Value\"])"
   ]
  },
  {
   "cell_type": "markdown",
   "id": "4bbd8d6d-bfd6-4431-a75e-b61badaea9b1",
   "metadata": {},
   "source": []
  },
  {
   "cell_type": "code",
   "execution_count": null,
   "id": "585e5428-a018-436f-90d7-357a4d134519",
   "metadata": {},
   "outputs": [],
   "source": []
  },
  {
   "cell_type": "code",
   "execution_count": null,
   "id": "5fe78b20-af01-4943-ae6e-283068f89d30",
   "metadata": {},
   "outputs": [],
   "source": []
  }
 ],
 "metadata": {
  "kernelspec": {
   "display_name": "Python 3 (ipykernel)",
   "language": "python",
   "name": "python3"
  },
  "language_info": {
   "codemirror_mode": {
    "name": "ipython",
    "version": 3
   },
   "file_extension": ".py",
   "mimetype": "text/x-python",
   "name": "python",
   "nbconvert_exporter": "python",
   "pygments_lexer": "ipython3",
   "version": "3.10.8"
  }
 },
 "nbformat": 4,
 "nbformat_minor": 5
}
